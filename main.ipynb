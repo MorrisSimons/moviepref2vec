{
 "cells": [
  {
   "cell_type": "markdown",
   "id": "a3ae0bda",
   "metadata": {},
   "source": [
    "# Movie prefs 2 vec\n",
    "I want to build a taste vector for each user to recommend content."
   ]
  },
  {
   "cell_type": "code",
   "execution_count": null,
   "id": "674f73f6",
   "metadata": {},
   "outputs": [
    {
     "name": "stderr",
     "output_type": "stream",
     "text": [
      "/home/morrisubuntu/.local/lib/python3.10/site-packages/tqdm/auto.py:21: TqdmWarning: IProgress not found. Please update jupyter and ipywidgets. See https://ipywidgets.readthedocs.io/en/stable/user_install.html\n",
      "  from .autonotebook import tqdm as notebook_tqdm\n"
     ]
    },
    {
     "name": "stdout",
     "output_type": "stream",
     "text": [
      "Path to dataset files: /home/morrisubuntu/.cache/kagglehub/datasets/aigamer/movie-lens-dataset/versions/1\n"
     ]
    }
   ],
   "source": [
    "# import kagglehub\n",
    "# import shutil\n",
    "# import os\n",
    "# \n",
    "# # Download latest version\n",
    "# path = kagglehub.dataset_download(\"aigamer/movie-lens-dataset\")\n",
    "# \n",
    "# # Ensure the destination folder exists\n",
    "# os.makedirs(\"data\", exist_ok=True)\n",
    "# \n",
    "# # Move the downloaded files to the destination folder\n",
    "# for filename in os.listdir(path):\n",
    "#     source_file = os.path.join(path, filename)\n",
    "#     destination_file = os.path.join(\"data\", filename)\n",
    "#     \n",
    "#     # Move the file\n",
    "#     shutil.move(source_file, destination_file)"
   ]
  },
  {
   "cell_type": "code",
   "execution_count": null,
   "id": "4020b13d",
   "metadata": {},
   "outputs": [],
   "source": [
    "import pandas as pd\n",
    "\n",
    "# Load the movies data into a DataFrame\n",
    "movies_df = pd.read_csv(\"data/movies.csv\")\n",
    "movies_df.head()"
   ]
  }
 ],
 "metadata": {
  "kernelspec": {
   "display_name": "Python 3",
   "language": "python",
   "name": "python3"
  },
  "language_info": {
   "codemirror_mode": {
    "name": "ipython",
    "version": 3
   },
   "file_extension": ".py",
   "mimetype": "text/x-python",
   "name": "python",
   "nbconvert_exporter": "python",
   "pygments_lexer": "ipython3",
   "version": "3.10.12"
  }
 },
 "nbformat": 4,
 "nbformat_minor": 5
}
